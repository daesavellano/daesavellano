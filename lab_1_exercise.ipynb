{
  "cells": [
    {
      "cell_type": "markdown",
      "metadata": {
        "id": "view-in-github",
        "colab_type": "text"
      },
      "source": [
        "<a href=\"https://colab.research.google.com/github/daesavellano/daesavellano/blob/main/lab_1_exercise.ipynb\" target=\"_parent\"><img src=\"https://colab.research.google.com/assets/colab-badge.svg\" alt=\"Open In Colab\"/></a>"
      ]
    },
    {
      "cell_type": "markdown",
      "id": "f65a1e2a-3cc9-4f85-bc69-37d492eae1aa",
      "metadata": {
        "id": "f65a1e2a-3cc9-4f85-bc69-37d492eae1aa"
      },
      "source": [
        "# 90-803 Machine Learning Foundations with Python\n",
        "### Spring 2025 / Lab-1  Our Python environment and two ML tools\n",
        "\n",
        "#### Your name: `__________________________________`\n",
        "#### Your Andrew Id: `_______________________`"
      ]
    },
    {
      "cell_type": "markdown",
      "id": "9c467266-10da-449d-b429-99b7453a6372",
      "metadata": {
        "id": "9c467266-10da-449d-b429-99b7453a6372"
      },
      "source": [
        "#### Instructions\n",
        "1. Rename this notebook to `lab-1-andrewid.ipynb\n",
        "2. Complete the code for `one_hot_encoding` and `confusion_matrix`\n",
        "3. Submit the notebook via the Canvas box for lab-1"
      ]
    },
    {
      "cell_type": "markdown",
      "id": "8aa26ed1-3bdb-412d-8118-fc7a8292511a",
      "metadata": {
        "id": "8aa26ed1-3bdb-412d-8118-fc7a8292511a"
      },
      "source": [
        "## Problem 1: One Hot Encoding"
      ]
    },
    {
      "cell_type": "markdown",
      "id": "f67c7100-688c-4103-b946-34a55f8f192a",
      "metadata": {
        "id": "f67c7100-688c-4103-b946-34a55f8f192a"
      },
      "source": [
        "A recommended way of encoding nominal values (e.g, colors, models of cars etc) as numbers is termed one hot encoding.  The idea is simple: if you have 5 nominal values, then each value is encoded by 5 bits, where only 1 bit is set for each unique value. The nominal values are sorted alphabetically before doing the encoding.\n",
        "\n",
        "For example,\n",
        "```\n",
        "> one_hot_encoding(['alpha','beta', 'gamma'])\n",
        "\n",
        "[['beta', [1, 0, 0]], ['alpha', [0, 1, 0]], ['gamma', [0, 0, 1]]]\n",
        "\n",
        "> one_hot_encoding(['ford','honda', 'toyota', 'mazda', 'subaru'])\n",
        "\n",
        "[['honda', [1, 0, 0, 0, 0]],\n",
        " ['subaru', [0, 1, 0, 0, 0]],\n",
        " ['mazda', [0, 0, 1, 0, 0]],\n",
        " ['toyota', [0, 0, 0, 1, 0]],\n",
        " ['ford', [0, 0, 0, 0, 1]]]"
      ]
    },
    {
      "cell_type": "code",
      "execution_count": null,
      "id": "0fb29c7f-4799-42c8-9497-43dd6ca54d4f",
      "metadata": {
        "id": "0fb29c7f-4799-42c8-9497-43dd6ca54d4f",
        "outputId": "571fcef5-1d9f-4c4b-ba0f-c0e2b14d540c"
      },
      "outputs": [
        {
          "data": {
            "text/plain": [
              "[['beta', [1, 0, 0]], ['alpha', [0, 1, 0]], ['gamma', [0, 0, 1]]]"
            ]
          },
          "execution_count": 62,
          "metadata": {},
          "output_type": "execute_result"
        }
      ],
      "source": [
        "def one_hot_encoding(nominals):\n",
        "    '''\n",
        "    Convert a set of nominals to a set of binary variables\n",
        "    one_hot_encoding(['alpha','beta', 'gamma'] ->\n",
        "    [['alpha', [1, 0, 0]], ['beta', [0, 1, 0]], ['gamma', [0, 0, 1]]]\n",
        "    '''\n",
        "    pass\n",
        "\n",
        "one_hot_encoding(['alpha','beta', 'gamma'])"
      ]
    },
    {
      "cell_type": "code",
      "execution_count": null,
      "id": "5e70dbac-c0b4-4ffd-9b47-8d4783c78f21",
      "metadata": {
        "id": "5e70dbac-c0b4-4ffd-9b47-8d4783c78f21",
        "outputId": "58fa230e-f3da-4a88-ad5c-8a385f530386"
      },
      "outputs": [
        {
          "data": {
            "text/plain": [
              "[['honda', [1, 0, 0, 0, 0]],\n",
              " ['subaru', [0, 1, 0, 0, 0]],\n",
              " ['mazda', [0, 0, 1, 0, 0]],\n",
              " ['toyota', [0, 0, 0, 1, 0]],\n",
              " ['ford', [0, 0, 0, 0, 1]]]"
            ]
          },
          "execution_count": 63,
          "metadata": {},
          "output_type": "execute_result"
        }
      ],
      "source": [
        "one_hot_encoding(['ford','honda', 'toyota', 'mazda', 'subaru'])"
      ]
    },
    {
      "cell_type": "markdown",
      "id": "b3ce3aec-0bb3-444f-97b4-f156222f6534",
      "metadata": {
        "id": "b3ce3aec-0bb3-444f-97b4-f156222f6534"
      },
      "source": [
        "### Problem 2: Generating a Confusion Matrix"
      ]
    },
    {
      "cell_type": "code",
      "execution_count": null,
      "id": "22d421cf-ba69-4aa4-bc45-ba02cf6cb6d7",
      "metadata": {
        "id": "22d421cf-ba69-4aa4-bc45-ba02cf6cb6d7"
      },
      "outputs": [],
      "source": [
        "import random"
      ]
    },
    {
      "cell_type": "code",
      "execution_count": null,
      "id": "4e53d630-cf30-4540-99b2-bbe152c79a1f",
      "metadata": {
        "id": "4e53d630-cf30-4540-99b2-bbe152c79a1f"
      },
      "outputs": [],
      "source": [
        "N = 10"
      ]
    },
    {
      "cell_type": "code",
      "execution_count": null,
      "id": "b53aca89-fa77-45df-a3fe-327eaba6cfb9",
      "metadata": {
        "id": "b53aca89-fa77-45df-a3fe-327eaba6cfb9",
        "outputId": "0d0bf409-54ee-40e4-d1f5-017b52e1d87c"
      },
      "outputs": [
        {
          "data": {
            "text/plain": [
              "[0, 1, 1, 0, 0, 1, 1, 1, 0, 0]"
            ]
          },
          "execution_count": 65,
          "metadata": {},
          "output_type": "execute_result"
        }
      ],
      "source": [
        "random.seed(10)\n",
        "actual = [random.choice([0,1]) for i in range(N)]\n",
        "actual"
      ]
    },
    {
      "cell_type": "code",
      "execution_count": null,
      "id": "07557743-5df1-4a6b-88d7-01ab1e619523",
      "metadata": {
        "scrolled": true,
        "id": "07557743-5df1-4a6b-88d7-01ab1e619523",
        "outputId": "fbe44505-918c-47de-83a4-935db684e07f"
      },
      "outputs": [
        {
          "data": {
            "text/plain": [
              "[1, 1, 1, 1, 0, 1, 0, 1, 0, 0]"
            ]
          },
          "execution_count": 66,
          "metadata": {},
          "output_type": "execute_result"
        }
      ],
      "source": [
        "random.seed(20)\n",
        "def flip(x):\n",
        "    if random.random() > 0.9:\n",
        "        if x==1:\n",
        "            return 0\n",
        "        else:\n",
        "            return 1\n",
        "    else:\n",
        "        return x\n",
        "\n",
        "predicted = [ flip(x) for x in actual]\n",
        "predicted"
      ]
    },
    {
      "cell_type": "code",
      "execution_count": null,
      "id": "fb02a18b-7b3b-4347-83de-ac8750961210",
      "metadata": {
        "id": "fb02a18b-7b3b-4347-83de-ac8750961210",
        "outputId": "ada25015-d4cf-4125-9ae3-26ce9ca10b96"
      },
      "outputs": [
        {
          "name": "stdout",
          "output_type": "stream",
          "text": [
            "   1   1   1   1   0   1   0   1   0   0\n",
            "   0   1   1   0   0   1   1   1   0   0\n"
          ]
        }
      ],
      "source": [
        "def show(lst):\n",
        "    for x in lst:\n",
        "        print(\"%4d\" % x, end='')\n",
        "    print()\n",
        "\n",
        "show(predicted)\n",
        "show(actual)\n"
      ]
    },
    {
      "cell_type": "raw",
      "id": "95e0a68c-7066-42e6-b1ad-5a5836c1f347",
      "metadata": {
        "id": "95e0a68c-7066-42e6-b1ad-5a5836c1f347"
      },
      "source": [
        "   1   1   1   1   0   1   0   1   0   0\n",
        "   0   1   1   0   0   1   1   1   0   0\n",
        "  FP  TP  TP  FP  TN   TP FN   TP  TN  TN"
      ]
    },
    {
      "cell_type": "code",
      "execution_count": null,
      "id": "e5101d87-f1c8-496d-b053-46c77b9a8fca",
      "metadata": {
        "id": "e5101d87-f1c8-496d-b053-46c77b9a8fca"
      },
      "outputs": [],
      "source": [
        "def confusion_matrix( actual, predicted):\n",
        "    '''\n",
        "    Given the actual values and predicted values generate a confusion matrix\n",
        "               Actual\n",
        "   Predicted   TN  FP\n",
        "               FN  TP\n",
        "\n",
        "        [[ TN  FP] [ FN  TP]]\n",
        "    '''\n",
        "    pass\n",
        ""
      ]
    },
    {
      "cell_type": "code",
      "execution_count": null,
      "id": "5d5490ff-7d2a-4d4f-ba2c-7a7840e1fb26",
      "metadata": {
        "id": "5d5490ff-7d2a-4d4f-ba2c-7a7840e1fb26",
        "outputId": "52427d72-1913-4a26-af2d-24125a289468"
      },
      "outputs": [
        {
          "data": {
            "text/plain": [
              "[[3, 2], [1, 4]]"
            ]
          },
          "execution_count": 72,
          "metadata": {},
          "output_type": "execute_result"
        }
      ],
      "source": [
        "cm = confusion_matrix( actual, predicted )\n",
        "cm"
      ]
    },
    {
      "cell_type": "raw",
      "id": "2762893a-0ad0-43b0-990a-81b78297db5e",
      "metadata": {
        "id": "2762893a-0ad0-43b0-990a-81b78297db5e"
      },
      "source": []
    },
    {
      "cell_type": "code",
      "execution_count": null,
      "id": "2e83fd94-af33-4e9d-9263-110bd8b0d781",
      "metadata": {
        "id": "2e83fd94-af33-4e9d-9263-110bd8b0d781",
        "outputId": "f84b4651-38a7-4cf8-c22b-a4bfa03a5477"
      },
      "outputs": [
        {
          "name": "stdout",
          "output_type": "stream",
          "text": [
            "   3    2\n",
            "   1    4\n"
          ]
        }
      ],
      "source": [
        "def print_confusion_matrix(cm):\n",
        "    (TN, FP), (FN, TP) = cm\n",
        "    print(\"%4d %4d\" % (TN, FP))\n",
        "    print(\"%4d %4d\" % (FN, TP))\n",
        "\n",
        "print_confusion_matrix(cm)"
      ]
    },
    {
      "cell_type": "code",
      "execution_count": null,
      "id": "36e99fef-cd64-491c-b27b-fe1b64db01e4",
      "metadata": {
        "id": "36e99fef-cd64-491c-b27b-fe1b64db01e4"
      },
      "outputs": [],
      "source": []
    }
  ],
  "metadata": {
    "kernelspec": {
      "display_name": "Python 3 (ipykernel)",
      "language": "python",
      "name": "python3"
    },
    "language_info": {
      "codemirror_mode": {
        "name": "ipython",
        "version": 3
      },
      "file_extension": ".py",
      "mimetype": "text/x-python",
      "name": "python",
      "nbconvert_exporter": "python",
      "pygments_lexer": "ipython3",
      "version": "3.12.7"
    },
    "colab": {
      "provenance": [],
      "include_colab_link": true
    }
  },
  "nbformat": 4,
  "nbformat_minor": 5
}